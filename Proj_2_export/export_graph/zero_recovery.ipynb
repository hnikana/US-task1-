{
 "cells": [
  {
   "cell_type": "markdown",
   "metadata": {},
   "source": [
    "# ZEROs are really zero value or just Missing values ?\n"
   ]
  },
  {
   "cell_type": "markdown",
   "metadata": {},
   "source": [
    "> **why could this quetion be arised ?** <br>\n",
    "    because of th eproblem we saw in the dataset regarding underlying pattern between SE and GP \n",
    "    <br>![Zero Values frequency](./data_zero_frequency.png)"
   ]
  },
  {
   "cell_type": "markdown",
   "metadata": {},
   "source": [
    "> **There is doubt here if they are really missing values or zero values.** <br>\n",
    "Because we are dealing with financial statement it is really hard to believe this amount of zero <br>\n",
    "Or they are really zero as some dealers does not have some departmenets and so they have no numbers in that regards <br>\n",
    "> For now , it is just assumed that some zero values could have been missing values , how to detect those ?\n"
   ]
  },
  {
   "cell_type": "markdown",
   "metadata": {},
   "source": [
    "> **The Suggested algorithm** <br>\n",
    "I have already removed features with more than 30 percent of missing values and zero values <br>\n",
    "\n",
    ">If the zero values are removed , the range still stay the same (R) <br>\n",
    "But the median could shift, if the ratio of median change to range is less than alpha(threshold) then , we could conclue that the zero values are really zeros other wise they are not. <br>\n",
    "<br>\n",
    "\\begin{align}\n",
    "\\frac {|M_1 - M_2|}{Range}\\leq Alpha \\\\\n",
    "Range = | Q_.99 - Q_.01 | \\\\\n",
    "Alpha = \\frac{.5 \\times V_z}{V_z + V_n}\n",
    "\\end{align}\n",
    "\n",
    "\n",
    "\n",
    "\n",
    "               \n",
    "\n"
   ]
  },
  {
   "cell_type": "markdown",
   "metadata": {},
   "source": []
  }
 ],
 "metadata": {
  "kernelspec": {
   "display_name": "Python 3",
   "language": "python",
   "name": "python3"
  },
  "language_info": {
   "codemirror_mode": {
    "name": "ipython",
    "version": 3
   },
   "file_extension": ".py",
   "mimetype": "text/x-python",
   "name": "python",
   "nbconvert_exporter": "python",
   "pygments_lexer": "ipython3",
   "version": "3.7.1"
  }
 },
 "nbformat": 4,
 "nbformat_minor": 2
}
